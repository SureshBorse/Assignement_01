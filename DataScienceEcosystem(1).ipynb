{
 "cells": [
  {
   "cell_type": "markdown",
   "id": "f16b26e5-30a6-41bd-a3b1-822790a61000",
   "metadata": {},
   "source": [
    "#H1 In this notebook, Data Science Tools and Ecosystem are summarized."
   ]
  },
  {
   "cell_type": "markdown",
   "id": "62d16787-0cbc-47df-8366-c707f2a5a399",
   "metadata": {},
   "source": [
    "Some of the popular languages that Data Scientists use are:"
   ]
  },
  {
   "cell_type": "code",
   "execution_count": 12,
   "id": "a5e5d0f6-0f16-4bbf-9121-661de8e3c9c4",
   "metadata": {},
   "outputs": [
    {
     "data": {
      "text/plain": [
       "[1, 2, 3, 4, 5]"
      ]
     },
     "execution_count": 12,
     "metadata": {},
     "output_type": "execute_result"
    }
   ],
   "source": [
    "ordered_list=[1,2,3,4,5]\n",
    "for i in ordered_list:\n",
    "    ID=i\n",
    "ordered_list"
   ]
  },
  {
   "cell_type": "markdown",
   "id": "dbe3ccc2-4f52-498e-a0fd-e0ff454e9fbb",
   "metadata": {},
   "source": [
    "## Ordered List\n",
    "1. Python\n",
    "2. Julia\n",
    "3. R\n",
    "4. Java"
   ]
  },
  {
   "cell_type": "markdown",
   "id": "794433de-6258-4b8e-bc49-ec7bd6caf624",
   "metadata": {},
   "source": [
    "## Some of the commonly used libraries used by Data Scientists include:\n",
    "1. Matpotlib\n",
    "2. NumPy\n",
    "3. Pandas\n",
    "4. Matplotlib\n",
    "5. Seaborn\n",
    "6. Scikit-learn\n",
    "7. TensorFlow\n",
    "8. PyTorch\n",
    "9. Keras\n",
    "10. SciPy\n",
    "11. Statsmodels\n",
    "12. NLTK\n",
    "13. SpaCy\n",
    "14. XGBoost\n",
    "15. LightGBM\n",
    "16. Plotly\n",
    "17. Bokeh"
   ]
  },
  {
   "cell_type": "markdown",
   "id": "cab93ef7-cc47-4c36-b15e-20e9fdd589d0",
   "metadata": {},
   "source": []
  },
  {
   "cell_type": "markdown",
   "id": "3e863f10-36a5-4690-86cd-5e198268297c",
   "metadata": {},
   "source": [
    "# Author : \n",
    "## Suresh Borse\n"
   ]
  },
  {
   "cell_type": "code",
   "execution_count": null,
   "id": "a475e72a-3f25-45e7-8dc1-197461085ac4",
   "metadata": {},
   "outputs": [],
   "source": []
  }
 ],
 "metadata": {
  "kernelspec": {
   "display_name": "Python [conda env:base] *",
   "language": "python",
   "name": "conda-base-py"
  },
  "language_info": {
   "codemirror_mode": {
    "name": "ipython",
    "version": 3
   },
   "file_extension": ".py",
   "mimetype": "text/x-python",
   "name": "python",
   "nbconvert_exporter": "python",
   "pygments_lexer": "ipython3",
   "version": "3.12.7"
  }
 },
 "nbformat": 4,
 "nbformat_minor": 5
}
